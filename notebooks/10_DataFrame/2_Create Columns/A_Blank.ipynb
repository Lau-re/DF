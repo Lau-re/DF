{
 "cells": [
  {
   "cell_type": "markdown",
   "id": "47483703",
   "metadata": {
    "papermill": {
     "duration": 0.002866,
     "end_time": "2024-06-15T22:45:53.601030",
     "exception": false,
     "start_time": "2024-06-15T22:45:53.598164",
     "status": "completed"
    },
    "tags": []
   },
   "source": [
    "# Create new columns in DataFrame"
   ]
  },
  {
   "cell_type": "markdown",
   "id": "b46c4869",
   "metadata": {
    "papermill": {
     "duration": 0.00201,
     "end_time": "2024-06-15T22:45:53.605405",
     "exception": false,
     "start_time": "2024-06-15T22:45:53.603395",
     "status": "completed"
    },
    "tags": []
   },
   "source": [
    "## Load dataset"
   ]
  },
  {
   "cell_type": "code",
   "execution_count": 1,
   "id": "1c044344",
   "metadata": {
    "execution": {
     "iopub.execute_input": "2024-06-15T22:45:53.609602Z",
     "iopub.status.busy": "2024-06-15T22:45:53.609370Z",
     "iopub.status.idle": "2024-06-15T22:45:53.675428Z",
     "shell.execute_reply": "2024-06-15T22:45:53.675159Z"
    },
    "papermill": {
     "duration": 0.069256,
     "end_time": "2024-06-15T22:45:53.676198",
     "exception": false,
     "start_time": "2024-06-15T22:45:53.606942",
     "status": "completed"
    },
    "tags": []
   },
   "outputs": [],
   "source": [
    "import pandas as pd"
   ]
  },
  {
   "cell_type": "code",
   "execution_count": 2,
   "id": "b877b44f",
   "metadata": {},
   "outputs": [],
   "source": [
    "df = pd.read_excel('../data/energy_cost_2023.xlsx')"
   ]
  },
  {
   "cell_type": "code",
   "execution_count": 3,
   "id": "8d014614",
   "metadata": {},
   "outputs": [
    {
     "data": {
      "text/html": [
       "<div>\n",
       "<style scoped>\n",
       "    .dataframe tbody tr th:only-of-type {\n",
       "        vertical-align: middle;\n",
       "    }\n",
       "\n",
       "    .dataframe tbody tr th {\n",
       "        vertical-align: top;\n",
       "    }\n",
       "\n",
       "    .dataframe thead th {\n",
       "        text-align: right;\n",
       "    }\n",
       "</style>\n",
       "<table border=\"1\" class=\"dataframe\">\n",
       "  <thead>\n",
       "    <tr style=\"text-align: right;\">\n",
       "      <th></th>\n",
       "      <th>datetime</th>\n",
       "      <th>price</th>\n",
       "      <th>energy</th>\n",
       "      <th>cost</th>\n",
       "      <th>year</th>\n",
       "      <th>month</th>\n",
       "      <th>day</th>\n",
       "      <th>hour</th>\n",
       "      <th>dayofweek</th>\n",
       "    </tr>\n",
       "  </thead>\n",
       "  <tbody>\n",
       "    <tr>\n",
       "      <th>0</th>\n",
       "      <td>2023-01-01 00:00:00</td>\n",
       "      <td>0.00</td>\n",
       "      <td>14039.8</td>\n",
       "      <td>0.000</td>\n",
       "      <td>2023</td>\n",
       "      <td>1</td>\n",
       "      <td>1</td>\n",
       "      <td>0</td>\n",
       "      <td>6</td>\n",
       "    </tr>\n",
       "    <tr>\n",
       "      <th>1</th>\n",
       "      <td>2023-01-01 01:00:00</td>\n",
       "      <td>0.00</td>\n",
       "      <td>13581.2</td>\n",
       "      <td>0.000</td>\n",
       "      <td>2023</td>\n",
       "      <td>1</td>\n",
       "      <td>1</td>\n",
       "      <td>1</td>\n",
       "      <td>6</td>\n",
       "    </tr>\n",
       "    <tr>\n",
       "      <th>2</th>\n",
       "      <td>2023-01-01 02:00:00</td>\n",
       "      <td>0.00</td>\n",
       "      <td>13059.2</td>\n",
       "      <td>0.000</td>\n",
       "      <td>2023</td>\n",
       "      <td>1</td>\n",
       "      <td>1</td>\n",
       "      <td>2</td>\n",
       "      <td>6</td>\n",
       "    </tr>\n",
       "    <tr>\n",
       "      <th>3</th>\n",
       "      <td>2023-01-01 03:00:00</td>\n",
       "      <td>0.00</td>\n",
       "      <td>12903.3</td>\n",
       "      <td>0.000</td>\n",
       "      <td>2023</td>\n",
       "      <td>1</td>\n",
       "      <td>1</td>\n",
       "      <td>3</td>\n",
       "      <td>6</td>\n",
       "    </tr>\n",
       "    <tr>\n",
       "      <th>4</th>\n",
       "      <td>2023-01-01 04:00:00</td>\n",
       "      <td>0.00</td>\n",
       "      <td>12477.2</td>\n",
       "      <td>0.000</td>\n",
       "      <td>2023</td>\n",
       "      <td>1</td>\n",
       "      <td>1</td>\n",
       "      <td>4</td>\n",
       "      <td>6</td>\n",
       "    </tr>\n",
       "    <tr>\n",
       "      <th>...</th>\n",
       "      <td>...</td>\n",
       "      <td>...</td>\n",
       "      <td>...</td>\n",
       "      <td>...</td>\n",
       "      <td>...</td>\n",
       "      <td>...</td>\n",
       "      <td>...</td>\n",
       "      <td>...</td>\n",
       "      <td>...</td>\n",
       "    </tr>\n",
       "    <tr>\n",
       "      <th>8755</th>\n",
       "      <td>2023-12-31 19:00:00</td>\n",
       "      <td>101.30</td>\n",
       "      <td>15085.8</td>\n",
       "      <td>1528191.540</td>\n",
       "      <td>2023</td>\n",
       "      <td>12</td>\n",
       "      <td>31</td>\n",
       "      <td>19</td>\n",
       "      <td>6</td>\n",
       "    </tr>\n",
       "    <tr>\n",
       "      <th>8756</th>\n",
       "      <td>2023-12-31 20:00:00</td>\n",
       "      <td>92.97</td>\n",
       "      <td>14534.3</td>\n",
       "      <td>1351253.871</td>\n",
       "      <td>2023</td>\n",
       "      <td>12</td>\n",
       "      <td>31</td>\n",
       "      <td>20</td>\n",
       "      <td>6</td>\n",
       "    </tr>\n",
       "    <tr>\n",
       "      <th>8757</th>\n",
       "      <td>2023-12-31 21:00:00</td>\n",
       "      <td>85.49</td>\n",
       "      <td>13838.3</td>\n",
       "      <td>1183036.267</td>\n",
       "      <td>2023</td>\n",
       "      <td>12</td>\n",
       "      <td>31</td>\n",
       "      <td>21</td>\n",
       "      <td>6</td>\n",
       "    </tr>\n",
       "    <tr>\n",
       "      <th>8758</th>\n",
       "      <td>2023-12-31 22:00:00</td>\n",
       "      <td>74.74</td>\n",
       "      <td>13223.4</td>\n",
       "      <td>988316.916</td>\n",
       "      <td>2023</td>\n",
       "      <td>12</td>\n",
       "      <td>31</td>\n",
       "      <td>22</td>\n",
       "      <td>6</td>\n",
       "    </tr>\n",
       "    <tr>\n",
       "      <th>8759</th>\n",
       "      <td>2023-12-31 23:00:00</td>\n",
       "      <td>71.96</td>\n",
       "      <td>12659.1</td>\n",
       "      <td>910948.836</td>\n",
       "      <td>2023</td>\n",
       "      <td>12</td>\n",
       "      <td>31</td>\n",
       "      <td>23</td>\n",
       "      <td>6</td>\n",
       "    </tr>\n",
       "  </tbody>\n",
       "</table>\n",
       "<p>8760 rows × 9 columns</p>\n",
       "</div>"
      ],
      "text/plain": [
       "                datetime   price   energy         cost  year  month  day  \\\n",
       "0    2023-01-01 00:00:00    0.00  14039.8        0.000  2023      1    1   \n",
       "1    2023-01-01 01:00:00    0.00  13581.2        0.000  2023      1    1   \n",
       "2    2023-01-01 02:00:00    0.00  13059.2        0.000  2023      1    1   \n",
       "3    2023-01-01 03:00:00    0.00  12903.3        0.000  2023      1    1   \n",
       "4    2023-01-01 04:00:00    0.00  12477.2        0.000  2023      1    1   \n",
       "...                  ...     ...      ...          ...   ...    ...  ...   \n",
       "8755 2023-12-31 19:00:00  101.30  15085.8  1528191.540  2023     12   31   \n",
       "8756 2023-12-31 20:00:00   92.97  14534.3  1351253.871  2023     12   31   \n",
       "8757 2023-12-31 21:00:00   85.49  13838.3  1183036.267  2023     12   31   \n",
       "8758 2023-12-31 22:00:00   74.74  13223.4   988316.916  2023     12   31   \n",
       "8759 2023-12-31 23:00:00   71.96  12659.1   910948.836  2023     12   31   \n",
       "\n",
       "      hour  dayofweek  \n",
       "0        0          6  \n",
       "1        1          6  \n",
       "2        2          6  \n",
       "3        3          6  \n",
       "4        4          6  \n",
       "...    ...        ...  \n",
       "8755    19          6  \n",
       "8756    20          6  \n",
       "8757    21          6  \n",
       "8758    22          6  \n",
       "8759    23          6  \n",
       "\n",
       "[8760 rows x 9 columns]"
      ]
     },
     "execution_count": 3,
     "metadata": {},
     "output_type": "execute_result"
    }
   ],
   "source": [
    "df"
   ]
  },
  {
   "cell_type": "markdown",
   "id": "1370b3b4",
   "metadata": {
    "papermill": {
     "duration": 0.000971,
     "end_time": "2024-06-15T22:45:53.678511",
     "exception": false,
     "start_time": "2024-06-15T22:45:53.677540",
     "status": "completed"
    },
    "tags": []
   },
   "source": [
    "## Cost"
   ]
  },
  {
   "cell_type": "markdown",
   "id": "8164fbca",
   "metadata": {
    "papermill": {
     "duration": 0.000934,
     "end_time": "2024-06-15T22:45:53.680303",
     "exception": false,
     "start_time": "2024-06-15T22:45:53.679369",
     "status": "completed"
    },
    "tags": []
   },
   "source": [
    "### Calculate from columns"
   ]
  },
  {
   "cell_type": "code",
   "execution_count": null,
   "id": "0f657770",
   "metadata": {
    "execution": {
     "iopub.execute_input": "2024-06-15T22:45:53.682851Z",
     "iopub.status.busy": "2024-06-15T22:45:53.682742Z",
     "iopub.status.idle": "2024-06-15T22:45:53.684590Z",
     "shell.execute_reply": "2024-06-15T22:45:53.684397Z"
    },
    "papermill": {
     "duration": 0.004006,
     "end_time": "2024-06-15T22:45:53.685346",
     "exception": false,
     "start_time": "2024-06-15T22:45:53.681340",
     "status": "completed"
    },
    "tags": []
   },
   "outputs": [],
   "source": []
  },
  {
   "cell_type": "code",
   "execution_count": null,
   "id": "76ba87df",
   "metadata": {
    "execution": {
     "iopub.execute_input": "2024-06-15T22:45:53.688307Z",
     "iopub.status.busy": "2024-06-15T22:45:53.688084Z",
     "iopub.status.idle": "2024-06-15T22:45:53.691529Z",
     "shell.execute_reply": "2024-06-15T22:45:53.691192Z"
    },
    "papermill": {
     "duration": 0.005833,
     "end_time": "2024-06-15T22:45:53.692324",
     "exception": false,
     "start_time": "2024-06-15T22:45:53.686491",
     "status": "completed"
    },
    "tags": []
   },
   "outputs": [
    {
     "data": {
      "text/plain": [
       "datetime\n",
       "2023-01-01 00:00:00         0.000\n",
       "2023-01-01 01:00:00         0.000\n",
       "                          ...    \n",
       "2023-12-31 22:00:00    988316.916\n",
       "2023-12-31 23:00:00    910948.836\n",
       "Length: 8760, dtype: float64"
      ]
     },
     "execution_count": null,
     "metadata": {},
     "output_type": "execute_result"
    }
   ],
   "source": []
  },
  {
   "cell_type": "markdown",
   "id": "34fa8e83",
   "metadata": {
    "papermill": {
     "duration": 0.001071,
     "end_time": "2024-06-15T22:45:53.694738",
     "exception": false,
     "start_time": "2024-06-15T22:45:53.693667",
     "status": "completed"
    },
    "tags": []
   },
   "source": [
    "### Add new column to DataFrame"
   ]
  },
  {
   "cell_type": "code",
   "execution_count": null,
   "id": "e1d31ea4",
   "metadata": {
    "execution": {
     "iopub.execute_input": "2024-06-15T22:45:53.697705Z",
     "iopub.status.busy": "2024-06-15T22:45:53.697561Z",
     "iopub.status.idle": "2024-06-15T22:45:53.700390Z",
     "shell.execute_reply": "2024-06-15T22:45:53.700036Z"
    },
    "papermill": {
     "duration": 0.005917,
     "end_time": "2024-06-15T22:45:53.701699",
     "exception": false,
     "start_time": "2024-06-15T22:45:53.695782",
     "status": "completed"
    },
    "tags": []
   },
   "outputs": [],
   "source": []
  },
  {
   "cell_type": "code",
   "execution_count": null,
   "id": "c893a74f",
   "metadata": {
    "execution": {
     "iopub.execute_input": "2024-06-15T22:45:53.705769Z",
     "iopub.status.busy": "2024-06-15T22:45:53.705437Z",
     "iopub.status.idle": "2024-06-15T22:45:53.710071Z",
     "shell.execute_reply": "2024-06-15T22:45:53.709738Z"
    },
    "papermill": {
     "duration": 0.007482,
     "end_time": "2024-06-15T22:45:53.710853",
     "exception": false,
     "start_time": "2024-06-15T22:45:53.703371",
     "status": "completed"
    },
    "tags": []
   },
   "outputs": [
    {
     "data": {
      "text/html": [
       "<div>\n",
       "<style scoped>\n",
       "    .dataframe tbody tr th:only-of-type {\n",
       "        vertical-align: middle;\n",
       "    }\n",
       "\n",
       "    .dataframe tbody tr th {\n",
       "        vertical-align: top;\n",
       "    }\n",
       "\n",
       "    .dataframe thead th {\n",
       "        text-align: right;\n",
       "    }\n",
       "</style>\n",
       "<table border=\"1\" class=\"dataframe\">\n",
       "  <thead>\n",
       "    <tr style=\"text-align: right;\">\n",
       "      <th></th>\n",
       "      <th>price</th>\n",
       "      <th>energy</th>\n",
       "      <th>cost</th>\n",
       "    </tr>\n",
       "    <tr>\n",
       "      <th>datetime</th>\n",
       "      <th></th>\n",
       "      <th></th>\n",
       "      <th></th>\n",
       "    </tr>\n",
       "  </thead>\n",
       "  <tbody>\n",
       "    <tr>\n",
       "      <th>2023-01-01 00:00:00</th>\n",
       "      <td>0.00</td>\n",
       "      <td>14039.8</td>\n",
       "      <td>0.000</td>\n",
       "    </tr>\n",
       "    <tr>\n",
       "      <th>2023-01-01 01:00:00</th>\n",
       "      <td>0.00</td>\n",
       "      <td>13581.2</td>\n",
       "      <td>0.000</td>\n",
       "    </tr>\n",
       "    <tr>\n",
       "      <th>...</th>\n",
       "      <td>...</td>\n",
       "      <td>...</td>\n",
       "      <td>...</td>\n",
       "    </tr>\n",
       "    <tr>\n",
       "      <th>2023-12-31 22:00:00</th>\n",
       "      <td>74.74</td>\n",
       "      <td>13223.4</td>\n",
       "      <td>988316.916</td>\n",
       "    </tr>\n",
       "    <tr>\n",
       "      <th>2023-12-31 23:00:00</th>\n",
       "      <td>71.96</td>\n",
       "      <td>12659.1</td>\n",
       "      <td>910948.836</td>\n",
       "    </tr>\n",
       "  </tbody>\n",
       "</table>\n",
       "<p>8760 rows × 3 columns</p>\n",
       "</div>"
      ],
      "text/plain": [
       "                     price   energy        cost\n",
       "datetime                                       \n",
       "2023-01-01 00:00:00   0.00  14039.8       0.000\n",
       "2023-01-01 01:00:00   0.00  13581.2       0.000\n",
       "...                    ...      ...         ...\n",
       "2023-12-31 22:00:00  74.74  13223.4  988316.916\n",
       "2023-12-31 23:00:00  71.96  12659.1  910948.836\n",
       "\n",
       "[8760 rows x 3 columns]"
      ]
     },
     "execution_count": null,
     "metadata": {},
     "output_type": "execute_result"
    }
   ],
   "source": []
  },
  {
   "cell_type": "markdown",
   "id": "9d16c388",
   "metadata": {
    "papermill": {
     "duration": 0.001113,
     "end_time": "2024-06-15T22:45:53.713337",
     "exception": false,
     "start_time": "2024-06-15T22:45:53.712224",
     "status": "completed"
    },
    "tags": []
   },
   "source": [
    "## Temporal columns"
   ]
  },
  {
   "cell_type": "code",
   "execution_count": null,
   "id": "2d362b6a",
   "metadata": {
    "execution": {
     "iopub.execute_input": "2024-06-15T22:45:53.715984Z",
     "iopub.status.busy": "2024-06-15T22:45:53.715856Z",
     "iopub.status.idle": "2024-06-15T22:45:53.721598Z",
     "shell.execute_reply": "2024-06-15T22:45:53.721370Z"
    },
    "papermill": {
     "duration": 0.007924,
     "end_time": "2024-06-15T22:45:53.722312",
     "exception": false,
     "start_time": "2024-06-15T22:45:53.714388",
     "status": "completed"
    },
    "tags": []
   },
   "outputs": [
    {
     "data": {
      "text/html": [
       "<div>\n",
       "<style scoped>\n",
       "    .dataframe tbody tr th:only-of-type {\n",
       "        vertical-align: middle;\n",
       "    }\n",
       "\n",
       "    .dataframe tbody tr th {\n",
       "        vertical-align: top;\n",
       "    }\n",
       "\n",
       "    .dataframe thead th {\n",
       "        text-align: right;\n",
       "    }\n",
       "</style>\n",
       "<table border=\"1\" class=\"dataframe\">\n",
       "  <thead>\n",
       "    <tr style=\"text-align: right;\">\n",
       "      <th></th>\n",
       "      <th>price</th>\n",
       "      <th>energy</th>\n",
       "      <th>cost</th>\n",
       "      <th>year</th>\n",
       "      <th>month</th>\n",
       "      <th>day</th>\n",
       "      <th>hour</th>\n",
       "      <th>dayofweek</th>\n",
       "    </tr>\n",
       "    <tr>\n",
       "      <th>datetime</th>\n",
       "      <th></th>\n",
       "      <th></th>\n",
       "      <th></th>\n",
       "      <th></th>\n",
       "      <th></th>\n",
       "      <th></th>\n",
       "      <th></th>\n",
       "      <th></th>\n",
       "    </tr>\n",
       "  </thead>\n",
       "  <tbody>\n",
       "    <tr>\n",
       "      <th>2023-01-01 00:00:00</th>\n",
       "      <td>0.00</td>\n",
       "      <td>14039.8</td>\n",
       "      <td>0.000</td>\n",
       "      <td>2023</td>\n",
       "      <td>1</td>\n",
       "      <td>1</td>\n",
       "      <td>0</td>\n",
       "      <td>6</td>\n",
       "    </tr>\n",
       "    <tr>\n",
       "      <th>2023-01-01 01:00:00</th>\n",
       "      <td>0.00</td>\n",
       "      <td>13581.2</td>\n",
       "      <td>0.000</td>\n",
       "      <td>2023</td>\n",
       "      <td>1</td>\n",
       "      <td>1</td>\n",
       "      <td>1</td>\n",
       "      <td>6</td>\n",
       "    </tr>\n",
       "    <tr>\n",
       "      <th>...</th>\n",
       "      <td>...</td>\n",
       "      <td>...</td>\n",
       "      <td>...</td>\n",
       "      <td>...</td>\n",
       "      <td>...</td>\n",
       "      <td>...</td>\n",
       "      <td>...</td>\n",
       "      <td>...</td>\n",
       "    </tr>\n",
       "    <tr>\n",
       "      <th>2023-12-31 22:00:00</th>\n",
       "      <td>74.74</td>\n",
       "      <td>13223.4</td>\n",
       "      <td>988316.916</td>\n",
       "      <td>2023</td>\n",
       "      <td>12</td>\n",
       "      <td>31</td>\n",
       "      <td>22</td>\n",
       "      <td>6</td>\n",
       "    </tr>\n",
       "    <tr>\n",
       "      <th>2023-12-31 23:00:00</th>\n",
       "      <td>71.96</td>\n",
       "      <td>12659.1</td>\n",
       "      <td>910948.836</td>\n",
       "      <td>2023</td>\n",
       "      <td>12</td>\n",
       "      <td>31</td>\n",
       "      <td>23</td>\n",
       "      <td>6</td>\n",
       "    </tr>\n",
       "  </tbody>\n",
       "</table>\n",
       "<p>8760 rows × 8 columns</p>\n",
       "</div>"
      ],
      "text/plain": [
       "                     price   energy        cost  year  month  day  hour  \\\n",
       "datetime                                                                  \n",
       "2023-01-01 00:00:00   0.00  14039.8       0.000  2023      1    1     0   \n",
       "2023-01-01 01:00:00   0.00  13581.2       0.000  2023      1    1     1   \n",
       "...                    ...      ...         ...   ...    ...  ...   ...   \n",
       "2023-12-31 22:00:00  74.74  13223.4  988316.916  2023     12   31    22   \n",
       "2023-12-31 23:00:00  71.96  12659.1  910948.836  2023     12   31    23   \n",
       "\n",
       "                     dayofweek  \n",
       "datetime                        \n",
       "2023-01-01 00:00:00          6  \n",
       "2023-01-01 01:00:00          6  \n",
       "...                        ...  \n",
       "2023-12-31 22:00:00          6  \n",
       "2023-12-31 23:00:00          6  \n",
       "\n",
       "[8760 rows x 8 columns]"
      ]
     },
     "execution_count": null,
     "metadata": {},
     "output_type": "execute_result"
    }
   ],
   "source": []
  },
  {
   "cell_type": "markdown",
   "id": "eab85cb4",
   "metadata": {
    "papermill": {
     "duration": 0.001028,
     "end_time": "2024-06-15T22:45:53.724570",
     "exception": false,
     "start_time": "2024-06-15T22:45:53.723542",
     "status": "completed"
    },
    "tags": []
   },
   "source": [
    "## Export to Excel"
   ]
  },
  {
   "cell_type": "code",
   "execution_count": null,
   "id": "7643a90e",
   "metadata": {
    "execution": {
     "iopub.execute_input": "2024-06-15T22:45:53.727276Z",
     "iopub.status.busy": "2024-06-15T22:45:53.727173Z",
     "iopub.status.idle": "2024-06-15T22:45:54.367001Z",
     "shell.execute_reply": "2024-06-15T22:45:54.366653Z"
    },
    "papermill": {
     "duration": 0.642255,
     "end_time": "2024-06-15T22:45:54.367925",
     "exception": false,
     "start_time": "2024-06-15T22:45:53.725670",
     "status": "completed"
    },
    "tags": []
   },
   "outputs": [],
   "source": []
  }
 ],
 "metadata": {
  "kernelspec": {
   "display_name": "work",
   "language": "python",
   "name": "python3"
  },
  "language_info": {
   "codemirror_mode": {
    "name": "ipython",
    "version": 3
   },
   "file_extension": ".py",
   "mimetype": "text/x-python",
   "name": "python",
   "nbconvert_exporter": "python",
   "pygments_lexer": "ipython3",
   "version": "3.11.4"
  },
  "papermill": {
   "default_parameters": {},
   "duration": 1.7898,
   "end_time": "2024-06-15T22:45:54.585055",
   "environment_variables": {},
   "exception": null,
   "input_path": "/Users/sota/Library/CloudStorage/Dropbox/2 Business/1 Datons/2 Areas/Courses/2 Catalogue/10 DF/1 Materials/DF/notebooks/10_DataFrame/2_Create Columns/B_Solution.ipynb",
   "output_path": "/Users/sota/Library/CloudStorage/Dropbox/2 Business/1 Datons/2 Areas/Courses/2 Catalogue/10 DF/1 Materials/DF/notebooks/10_DataFrame/2_Create Columns/B_Solution.ipynb",
   "parameters": {},
   "start_time": "2024-06-15T22:45:52.795255",
   "version": "2.6.0"
  }
 },
 "nbformat": 4,
 "nbformat_minor": 5
}
